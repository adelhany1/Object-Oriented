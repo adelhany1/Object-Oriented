{
 "cells": [
  {
   "cell_type": "code",
   "execution_count": null,
   "id": "20409b98",
   "metadata": {},
   "outputs": [],
   "source": []
  },
  {
   "cell_type": "code",
   "execution_count": 12,
   "id": "82fda082",
   "metadata": {},
   "outputs": [],
   "source": [
    "# Ordinary class\n",
    "class Employee:\n",
    "    raise_amt = 1.04\n",
    "    def __init__(self, first, last, pay):\n",
    "        self.first = first\n",
    "        self.last = last\n",
    "        self.email = first + '.' + last + '@email.com'\n",
    "        self.pay = pay\n",
    "\n",
    "    def fullname(self):\n",
    "        return '{} {}'.format(self.first, self.last)\n",
    "\n",
    "    def apply_raise(self):\n",
    "        self.pay = int(self.pay * self.raise_amt)"
   ]
  },
  {
   "cell_type": "code",
   "execution_count": 14,
   "id": "2195f1f7",
   "metadata": {},
   "outputs": [
    {
     "name": "stdout",
     "output_type": "stream",
     "text": [
      "Corey.Schafer@email.com\n",
      "Test.Employee@email.com\n",
      "50000\n",
      "52000\n"
     ]
    }
   ],
   "source": [
    "dev_1 = Employee('Corey', 'Schafer', 50000)\n",
    "dev_2 = Employee('Test', 'Employee', 60000)\n",
    "\n",
    "print(dev_1.email)\n",
    "print(dev_2.email)\n",
    "\n",
    "\n",
    "print(dev_1.pay)\n",
    "dev_1.apply_raise()\n",
    "print(dev_1.pay)"
   ]
  },
  {
   "cell_type": "code",
   "execution_count": null,
   "id": "98e2d8ba",
   "metadata": {},
   "outputs": [],
   "source": []
  },
  {
   "cell_type": "code",
   "execution_count": null,
   "id": "74253e2a",
   "metadata": {},
   "outputs": [],
   "source": []
  },
  {
   "cell_type": "code",
   "execution_count": null,
   "id": "fbb2dada",
   "metadata": {},
   "outputs": [],
   "source": []
  },
  {
   "cell_type": "code",
   "execution_count": null,
   "id": "11731884",
   "metadata": {},
   "outputs": [],
   "source": []
  },
  {
   "cell_type": "code",
   "execution_count": null,
   "id": "2a22dcc9",
   "metadata": {},
   "outputs": [],
   "source": []
  },
  {
   "cell_type": "markdown",
   "id": "2ecf302f",
   "metadata": {},
   "source": [
    "# Inheretance\n",
    "- Inheret attributes and methods from a parent class, can create subclasses and get all functioanality from the parent and add or overwrite it without affecting the parent"
   ]
  },
  {
   "cell_type": "code",
   "execution_count": 1,
   "id": "2b5c94b6",
   "metadata": {},
   "outputs": [],
   "source": [
    "class Employee:\n",
    "    raise_amt = 1.04\n",
    "    def __init__(self, first, last, pay):\n",
    "        self.first = first\n",
    "        self.last = last\n",
    "        self.email = first + '.' + last + '@email.com'\n",
    "        self.pay = pay\n",
    "        \n",
    "    def fullname(self):\n",
    "        return '{} {}'.format(self.first, self.last)\n",
    "    \n",
    "    def apply_raise(self):\n",
    "        self.pay = int(self.pay * self.raise_amt)"
   ]
  },
  {
   "cell_type": "code",
   "execution_count": 2,
   "id": "8508650e",
   "metadata": {},
   "outputs": [],
   "source": [
    "class Developer(Employee):  # inheret from Employee class, inheret all its functionality\n",
    "    raise_amt = 1.10\n",
    "\n",
    "    def __init__(self, first, last, pay, prog_lang):\n",
    "        super().__init__(first, last, pay)  # pass (first, last, pay) to Employee's init method, let Employee handle them\n",
    "        # Employee._init__(self, first, last, pay)  # same as super()....\n",
    "        self.prog_lang = prog_lang"
   ]
  },
  {
   "cell_type": "code",
   "execution_count": 7,
   "id": "15350f18",
   "metadata": {
    "scrolled": false
   },
   "outputs": [
    {
     "name": "stdout",
     "output_type": "stream",
     "text": [
      "Corey.Schafer@email.com\n",
      "Test.Employee@email.com\n"
     ]
    }
   ],
   "source": [
    "dev_1 = Developer('Corey', 'Schafer', 50000, 'Python')  \n",
    "dev_2 = Developer('Test', 'Employee', 60000, 'Java')\n",
    "# first look at init method in Developer class and then in Employee class and then 'builtins.object' class,\n",
    "# all classes in python inheret from that object\n",
    "print(dev_1.email)  # this attribute is in Employee class not Developer\n",
    "print(dev_2.email)"
   ]
  },
  {
   "cell_type": "code",
   "execution_count": 8,
   "id": "6867f1f9",
   "metadata": {
    "scrolled": true
   },
   "outputs": [
    {
     "name": "stdout",
     "output_type": "stream",
     "text": [
      "50000\n",
      "55000\n"
     ]
    }
   ],
   "source": [
    "print(dev_1.pay)\n",
    "dev_1.apply_raise()\n",
    "print(dev_1.pay)   # raises by 10% like in Developer class, not 4% like Employee"
   ]
  },
  {
   "cell_type": "code",
   "execution_count": 11,
   "id": "dd8eac9a",
   "metadata": {},
   "outputs": [
    {
     "name": "stdout",
     "output_type": "stream",
     "text": [
      "50000\n",
      "52000\n"
     ]
    }
   ],
   "source": [
    "emp = Employee('Corey', 'Schafer', 50000)  \n",
    "print(emp.pay)\n",
    "emp.apply_raise()\n",
    "print(emp.pay) \n",
    "# Changing a variable in Developer that was already exists in Employee doesnt change that var in Employee"
   ]
  },
  {
   "cell_type": "code",
   "execution_count": null,
   "id": "b07bf4c0",
   "metadata": {},
   "outputs": [],
   "source": []
  },
  {
   "cell_type": "code",
   "execution_count": 5,
   "id": "5b8a6880",
   "metadata": {},
   "outputs": [],
   "source": [
    "class Manager(Employee):\n",
    "    \n",
    "    def __init__(self, first, last, pay, employees=None):\n",
    "        super().__init__(first, last, pay)\n",
    "        if employees is None:  # default argument\n",
    "            self.employees = []\n",
    "        else:\n",
    "            self.employees = employees\n",
    "\n",
    "    def add_emp(self, emp):\n",
    "        if emp not in self.employees:\n",
    "            self.employees.append(emp)\n",
    "\n",
    "    def remove_emp(self, emp):\n",
    "        if emp in self.employees:\n",
    "            self.employees.remove(emp)\n",
    "\n",
    "    def print_emps(self):\n",
    "        for emp in self.employees:\n",
    "            print('-->', emp.fullname())"
   ]
  },
  {
   "cell_type": "code",
   "execution_count": 10,
   "id": "8ebca99e",
   "metadata": {},
   "outputs": [
    {
     "name": "stdout",
     "output_type": "stream",
     "text": [
      "Sue.Smith@email.com\n",
      "--> Corey Schafer\n",
      "Corey.Schafer@email.com\n"
     ]
    }
   ],
   "source": [
    "dev_1 = Developer('Corey', 'Schafer', 50000, 'Python')  \n",
    "dev_2 = Developer('Test', 'Employee', 60000, 'Java')\n",
    "\n",
    "mgr_1 = Manager('Sue', 'Smith', 90000, [dev_1])  # dev_1 is an employee , YES\n",
    "print(mgr_1.email)\n",
    "\n",
    "mgr_1.add_emp(dev_2)           # dev_2 is an employee , YES\n",
    "mgr_1.remove_emp(dev_2)        # Remoce dev_2 :(\n",
    "\n",
    "mgr_1.print_emps()             # employees in that mgr is just dev_1 \n",
    "print(dev_1.email)             # the employee dev_1 email"
   ]
  },
  {
   "cell_type": "code",
   "execution_count": 11,
   "id": "7140416d",
   "metadata": {},
   "outputs": [
    {
     "name": "stdout",
     "output_type": "stream",
     "text": [
      "True\n"
     ]
    }
   ],
   "source": [
    "print(issubclass(Manager,Employee))  # Manager is subclass of Employee"
   ]
  },
  {
   "cell_type": "code",
   "execution_count": 12,
   "id": "9abc0d50",
   "metadata": {},
   "outputs": [
    {
     "name": "stdout",
     "output_type": "stream",
     "text": [
      "False\n"
     ]
    }
   ],
   "source": [
    "print(issubclass(Manager,Developer))"
   ]
  },
  {
   "cell_type": "code",
   "execution_count": null,
   "id": "e87f53f3",
   "metadata": {},
   "outputs": [],
   "source": []
  }
 ],
 "metadata": {
  "kernelspec": {
   "display_name": "Python 3 (ipykernel)",
   "language": "python",
   "name": "python3"
  },
  "language_info": {
   "codemirror_mode": {
    "name": "ipython",
    "version": 3
   },
   "file_extension": ".py",
   "mimetype": "text/x-python",
   "name": "python",
   "nbconvert_exporter": "python",
   "pygments_lexer": "ipython3",
   "version": "3.9.15"
  }
 },
 "nbformat": 4,
 "nbformat_minor": 5
}
