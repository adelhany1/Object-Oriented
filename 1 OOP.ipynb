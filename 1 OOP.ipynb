{
 "cells": [
  {
   "cell_type": "code",
   "execution_count": null,
   "id": "98a4394a",
   "metadata": {},
   "outputs": [],
   "source": []
  },
  {
   "cell_type": "markdown",
   "id": "ae65acee",
   "metadata": {},
   "source": [
    "self is the instance and it passes as the first argument in init method, and then add other arguments and within init method we will set our instance variables , and these are attributes\n",
    "\n",
    "methods is the functions inside the class, that do actions"
   ]
  },
  {
   "cell_type": "markdown",
   "id": "dc4d5856",
   "metadata": {},
   "source": [
    "(Regular methods - class methods - static methods)\n",
    "\n",
    "- common convention for instance variable: self\n",
    "- common convention for class variable: cls\n",
    "- ...\n",
    "- ...\n",
    "- ...\n",
    "\n",
    "- Regular methods in a class automatically take the instance(self) as first argument\n",
    "- want to change this, so it instead automatically takes the class(cls) as first argu, use class methods\n",
    "   - Just add a decorator at the top: @classmethod\n",
    "- static methods don't pass anything automatically, behave just like regular functions but has a connection with a class"
   ]
  },
  {
   "cell_type": "code",
   "execution_count": 1,
   "id": "ce05814f",
   "metadata": {},
   "outputs": [],
   "source": [
    "class Employee:\n",
    "\n",
    "    num_of_emps = 0  \n",
    "    raise_amt = 1.04  # class variables, shared among all instances of a class, same for each instance\n",
    "\n",
    "    def __init__(self, first, last, pay):  # run every time we import the class or an instance of it\n",
    "        self.first = first   # these are instance variables used for data that is unique to each instance, with self argument\n",
    "        self.last = last\n",
    "        self.email = first + '.' + last + '@email.com'\n",
    "        self.pay = pay\n",
    "\n",
    "        Employee.num_of_emps += 1   # every time we create an instance it added a new emloyee\n",
    "                                    # constant class value that overwritten per instance\n",
    "\n",
    "    def fullname(self):\n",
    "        return '{} {}'.format(self.first, self.last)\n",
    "\n",
    "    def apply_raise(self):\n",
    "        self.pay = int(self.pay * self.raise_amt)\n",
    "\n",
    "    @classmethod\n",
    "    def set_raise_amt(cls, amount):\n",
    "        cls.raise_amt = amount\n",
    "\n",
    "    @classmethod\n",
    "    def from_string(cls, emp_str):\n",
    "        first, last, pay = emp_str.split('-')\n",
    "        return cls(first, last, pay)\n",
    "\n",
    "    @staticmethod  # has logical connection with the class but doesn't deppend on any specific instance or class variable\n",
    "    def is_workday(day):  # take a date and return weather that is a workday or not\n",
    "        if day.weekday() == 5 or day.weekday() == 6:                          # 5 is saturday, 6 is sunday\n",
    "            return False\n",
    "        return True"
   ]
  },
  {
   "cell_type": "code",
   "execution_count": 2,
   "id": "a49a4b2a",
   "metadata": {},
   "outputs": [
    {
     "name": "stdout",
     "output_type": "stream",
     "text": [
      "0\n",
      "2\n"
     ]
    }
   ],
   "source": [
    "print(Employee.num_of_emps)\n",
    "emp_1 = Employee('Corey', 'Schafer', 50000)\n",
    "emp_2 = Employee('Test', 'Employee', 60000)\n",
    "print(Employee.num_of_emps)"
   ]
  },
  {
   "cell_type": "code",
   "execution_count": 3,
   "id": "e62e271d",
   "metadata": {},
   "outputs": [
    {
     "name": "stdout",
     "output_type": "stream",
     "text": [
      "1.05\n",
      "1.05\n",
      "1.05\n",
      "###################################################################################\n",
      "John.Doe@email.com\n",
      "70000\n",
      "John.Doe@email.com\n",
      "70000\n",
      "####################################################################################\n",
      "True\n"
     ]
    }
   ],
   "source": [
    "emp_1 = Employee('Corey', 'Schafer', 50000)  # these are instance variables\n",
    "                                            # used for data that is unique to each instance\n",
    "emp_2 = Employee('Test', 'Employee', 60000)\n",
    "\n",
    "Employee.set_raise_amt(1.05) # a class method, we are working with the class instead of the instance\n",
    "                             # change it in the class changes it in all instances\n",
    "#Employee.raise_amt = 1.05  # same as using the above class method\n",
    "\n",
    "print(Employee.raise_amt)\n",
    "print(emp_1.raise_amt)\n",
    "print(emp_2.raise_amt)\n",
    "\n",
    "print('###################################################################################')\n",
    "\n",
    "emp_str_1 = 'John-Doe-70000'\n",
    "emp_str_2 = 'Steve-Smith-30000'\n",
    "emp_str_3 = 'Jane-Doe-90000'\n",
    "\n",
    "first, last, pay = emp_str_1.split('-')  # ordinary python split\n",
    "new_emp_1 = Employee(first, last, pay) # creating a new employee with the splitted values\n",
    "\n",
    "new_emp_2 = Employee.from_string(emp_str_1)  # pass the string and it create the employee for us (class method)\n",
    "                                # using class method as an alternative constructors\n",
    "\n",
    "print(new_emp_1.email)\n",
    "print(new_emp_1.pay)\n",
    "print(new_emp_2.email)\n",
    "print(new_emp_2.pay)\n",
    "\n",
    "print('####################################################################################')\n",
    "\n",
    "import datetime\n",
    "my_date = datetime.date(2016, 7, 11)\n",
    "print(Employee.is_workday(my_date))"
   ]
  },
  {
   "cell_type": "code",
   "execution_count": null,
   "id": "011adaf9",
   "metadata": {},
   "outputs": [],
   "source": []
  }
 ],
 "metadata": {
  "kernelspec": {
   "display_name": "Python 3 (ipykernel)",
   "language": "python",
   "name": "python3"
  },
  "language_info": {
   "codemirror_mode": {
    "name": "ipython",
    "version": 3
   },
   "file_extension": ".py",
   "mimetype": "text/x-python",
   "name": "python",
   "nbconvert_exporter": "python",
   "pygments_lexer": "ipython3",
   "version": "3.9.15"
  }
 },
 "nbformat": 4,
 "nbformat_minor": 5
}
